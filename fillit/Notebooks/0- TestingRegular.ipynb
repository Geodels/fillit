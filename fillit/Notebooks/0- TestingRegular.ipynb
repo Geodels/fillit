{
 "cells": [
  {
   "cell_type": "markdown",
   "metadata": {},
   "source": [
    "# Simple regular geometries"
   ]
  },
  {
   "cell_type": "code",
   "execution_count": null,
   "metadata": {},
   "outputs": [],
   "source": [
    "import pycpt\n",
    "import numpy as np\n",
    "\n",
    "from time import clock\n",
    "import fillit as pitfill\n",
    "\n",
    "import matplotlib\n",
    "import matplotlib.pyplot as plt\n",
    "from matplotlib.path import Path\n",
    "from mpl_toolkits.axes_grid1 import make_axes_locatable\n",
    "\n",
    "label_size = 8\n",
    "matplotlib.rcParams['xtick.labelsize'] = label_size \n",
    "matplotlib.rcParams['ytick.labelsize'] = label_size\n",
    "\n",
    "%matplotlib inline\n",
    "%config InlineBackend.figure_format = 'svg' "
   ]
  },
  {
   "cell_type": "markdown",
   "metadata": {},
   "source": [
    "## Plotting functions"
   ]
  },
  {
   "cell_type": "code",
   "execution_count": null,
   "metadata": {},
   "outputs": [],
   "source": [
    "def plotElevation( data, cmin, cmax, colormap):\n",
    "    '''\n",
    "    data: dataset to plot\n",
    "    zmin,zmax: extent of the colormap\n",
    "    colormap: to use    \n",
    "    '''\n",
    "    \n",
    "    # Figure size is defined here\n",
    "    fig = plt.figure(1, figsize=(6,6))\n",
    "    \n",
    "    ax = plt.gca()\n",
    "    im = ax.imshow(data, interpolation='nearest', cmap=colormap,\n",
    "                     vmin=cmin, vmax=cmax)\n",
    "    divider = make_axes_locatable(ax)\n",
    "    cax = divider.append_axes(\"right\", size=\"3%\", pad=0.1)\n",
    "    cbar = plt.colorbar(im,cax=cax)\n",
    "    plt.tight_layout()\n",
    "\n",
    "    plt.show()\n",
    "    plt.close(fig)"
   ]
  },
  {
   "cell_type": "markdown",
   "metadata": {},
   "source": [
    "## Surface definition"
   ]
  },
  {
   "cell_type": "code",
   "execution_count": null,
   "metadata": {},
   "outputs": [],
   "source": [
    "dx = 0.01\n",
    "minX, maxX = 0.0, 10.0\n",
    "minY, maxY = 0.0, 10.0\n",
    "\n",
    "nx = int((maxX - minX)/dx)+1\n",
    "ny = int((maxY - minY)/dx)+1\n",
    "\n",
    "xcoords = np.linspace(minX, maxX, nx)\n",
    "ycoords = np.linspace(minY, maxY, ny)\n",
    "\n",
    "X, Y = np.meshgrid(xcoords, ycoords)\n",
    "\n",
    "coords = np.vstack([X.ravel(), Y.ravel()])\n",
    "\n",
    "\n",
    "height  = 1.0 - (np.sin(0.5*X*np.pi)**2 * np.sin(0.5*Y*np.pi)**2)\n",
    "#height  += np.random.random(height.shape) * 0.001\n",
    "height  += 0.25 * (X + 0.5*Y)\n",
    "\n",
    "dem = height.reshape((ny,nx))"
   ]
  },
  {
   "cell_type": "code",
   "execution_count": null,
   "metadata": {},
   "outputs": [],
   "source": [
    "diffcmap = pycpt.load.cmap_from_cptcity_url('cmocean/balance.cpt')\n",
    "plotElevation( dem, dem.min(), dem.max(), diffcmap)"
   ]
  },
  {
   "cell_type": "markdown",
   "metadata": {},
   "source": [
    "# Perform pit filling\n",
    "\n",
    "We will now perform pit filling using one of the available priority-flood algorithms available in `fillit`.\n",
    "\n",
    "For regular grids, the following `classes` are available:\n",
    "+ `depressionFillingZhou`\n",
    "+ `depressionFillingBarnes`\n",
    "\n",
    "***\n",
    "\n",
    "These 2 classes are based on the following papers:\n",
    "\n",
    "Barnes, Lehman, Mulla. \"Priority-Flood: An Optimal Depression-Filling and\n",
    "Watershed-Labeling Algorithm for Digital Elevation Models\". Computers & Geosciences.\n",
    "Vol 62, Jan 2014, pp 117–127 - [link](https://www.sciencedirect.com/science/article/pii/S0098300413001337)\n",
    "\n",
    "Zhou, Sun, Fu. \"An efficient variant of the Priority-Flood algorithm for filling\n",
    "depressions in raster digital elevation models\". Computers & Geosciences.\n",
    "Vol 90, Feb 2016, pp 87–96 - [link](https://www.sciencedirect.com/science/article/pii/S0098300416300553)\n",
    "\n",
    "***\n",
    "\n",
    "To call one of these classes, you will typically do as follows:\n",
    "\n",
    "``` python\n",
    "import fillit as pitfill\n",
    "\n",
    "# Class initialisation\n",
    "pitClass = pitfill.depressionFillingBarnes(dem)\n",
    "\n",
    "# Performing pit filling\n",
    "fillZ = pitClass.performPitFillingSruct()\n",
    "\n",
    "```\n",
    "\n",
    "Here we illustrate how this is done for the 2 classes...\n",
    "\n",
    "### Barnes (2014)"
   ]
  },
  {
   "cell_type": "code",
   "execution_count": null,
   "metadata": {},
   "outputs": [],
   "source": [
    "t0 = clock()\n",
    "fillB = pitfill.depressionFillingBarnes(dem)\n",
    "filledB = fillB.performPitFillingStruct()\n",
    "print('\\n+ Pit filling - Priority-flood Barnes Algorithm 2014 (%0.02f seconds)'% (clock() - t0))"
   ]
  },
  {
   "cell_type": "markdown",
   "metadata": {},
   "source": [
    "### Zhou (2016)\n",
    "\n",
    "It is worth mentionning that the performance of Zhou's algorithm in `fillit` performed a bit slower than the Barnes'one mainly because it also computes additional information such as pit labelling, pit volume evaluation, watershed definition and spill-over graph..."
   ]
  },
  {
   "cell_type": "code",
   "execution_count": null,
   "metadata": {},
   "outputs": [],
   "source": [
    "t0 = clock()\n",
    "fillZ = pitfill.depressionFillingZhou(dem,cartesian=True)\n",
    "filledZ, LabelsZ, wLabelsZ, graph = fillZ.performPitFillingStruct(simple=False)\n",
    "print('\\n+ Pit filling - Priority-flood Zhou Algorithm 2014 (%0.02f seconds)'% (clock() - t0))"
   ]
  },
  {
   "cell_type": "code",
   "execution_count": null,
   "metadata": {},
   "outputs": [],
   "source": [
    "print('+ Pit filling elevation difference between Zhou & Barnes: \\n \\t \\t min: %0.02f - max: %0.02f \\n' % ((filledB-filledZ).min(),(filledB-filledZ).max()))"
   ]
  },
  {
   "cell_type": "markdown",
   "metadata": {},
   "source": [
    "We can visualise the filled elevation differences with the initial digital elevation model"
   ]
  },
  {
   "cell_type": "code",
   "execution_count": null,
   "metadata": {},
   "outputs": [],
   "source": [
    "print('\\t\\t\\t Zhou\\'s pit filling')\n",
    "topocmap = pycpt.load.cmap_from_cptcity_url('cmocean/amp.cpt')\n",
    "plotElevation(filledZ-dem, 0, 0.4, topocmap)"
   ]
  },
  {
   "cell_type": "markdown",
   "metadata": {},
   "source": [
    "# Perform pit filling with epsilon\n",
    "\n",
    "Only implemented for the Barnes algorithm...\n",
    "\n",
    "## Barnes' algo"
   ]
  },
  {
   "cell_type": "code",
   "execution_count": null,
   "metadata": {},
   "outputs": [],
   "source": [
    "t0 = clock()\n",
    "fillB2 = pitfill.depressionFillingBarnes(dem,eps=1.e-12,cartesian=True,first=0)\n",
    "filledB2 = fillB2.performPitFillingStruct()\n",
    "print('\\n+ Pit filling+epsilon - Priority-flood Barnes Algorithm 2014 (%0.02f seconds)'% (clock() - t0))"
   ]
  },
  {
   "cell_type": "code",
   "execution_count": null,
   "metadata": {},
   "outputs": [],
   "source": [
    "print('\\t\\t Barnes pit filling + eps')\n",
    "plotElevation( filledB2, filledB2.min(), filledB2.max(), diffcmap)\n",
    "\n",
    "print('\\t\\t Difference with or whithout eps')\n",
    "plotElevation( filledB2-filledB, (filledB2-filledB).min(), (filledB2-filledB).max(), diffcmap)"
   ]
  },
  {
   "cell_type": "code",
   "execution_count": null,
   "metadata": {},
   "outputs": [],
   "source": []
  }
 ],
 "metadata": {
  "kernelspec": {
   "display_name": "Python 2",
   "language": "python",
   "name": "python2"
  },
  "language_info": {
   "codemirror_mode": {
    "name": "ipython",
    "version": 2
   },
   "file_extension": ".py",
   "mimetype": "text/x-python",
   "name": "python",
   "nbconvert_exporter": "python",
   "pygments_lexer": "ipython2",
   "version": "2.7.12"
  }
 },
 "nbformat": 4,
 "nbformat_minor": 2
}
